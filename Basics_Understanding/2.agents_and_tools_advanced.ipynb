{
 "cells": [
  {
   "cell_type": "markdown",
   "id": "ddbe34a1-aaa2-437a-a3b1-447ef04c053c",
   "metadata": {},
   "source": [
    "### Getting deeper into Agents"
   ]
  },
  {
   "cell_type": "markdown",
   "id": "be3f4516-37f4-4585-8646-b793fab0574c",
   "metadata": {},
   "source": [
    "### Converstaional ReAct Agents\n",
    "The agent is designed for use in conversational settings. It incorporates the ReAct framework to determine which tool to use and utilizes memory to remember previous conversation interactions."
   ]
  },
  {
   "cell_type": "code",
   "execution_count": 17,
   "id": "4f8d6b0b-4005-49c1-b878-f767fd9d3e92",
   "metadata": {},
   "outputs": [
    {
     "data": {
      "text/plain": [
       "True"
      ]
     },
     "execution_count": 17,
     "metadata": {},
     "output_type": "execute_result"
    }
   ],
   "source": [
    "from langchain.agents import create_react_agent, load_tools\n",
    "from langchain_openai import ChatOpenAI\n",
    "from langchain.memory import ConversationBufferMemory\n",
    "from langchain.agents import initialize_agent\n",
    "from dotenv import load_dotenv\n",
    "load_dotenv()"
   ]
  },
  {
   "cell_type": "code",
   "execution_count": 7,
   "id": "f79802a0-4702-4da8-aedf-abc9aa985a9e",
   "metadata": {},
   "outputs": [],
   "source": [
    "llm = ChatOpenAI(model_name = 'gpt-3.5-turbo-0125', temperature = 0)"
   ]
  },
  {
   "cell_type": "code",
   "execution_count": 11,
   "id": "a3f77d96-51ce-4453-91fe-fba9103a8285",
   "metadata": {},
   "outputs": [],
   "source": [
    "tools = load_tools([\"llm-math\"], llm=llm)"
   ]
  },
  {
   "cell_type": "code",
   "execution_count": 19,
   "id": "3f5f24d5-fe0e-43fb-8bf6-4b99ec3aa4bf",
   "metadata": {},
   "outputs": [
    {
     "name": "stderr",
     "output_type": "stream",
     "text": [
      "/var/folders/9y/bw4br9h516s_4pbmq21pjhl40000gn/T/ipykernel_3457/368169611.py:3: LangChainDeprecationWarning: LangChain agents will continue to be supported, but it is recommended for new use cases to be built with LangGraph. LangGraph offers a more flexible and full-featured framework for building agents, including support for tool-calling, persistence of state, and human-in-the-loop workflows. See LangGraph documentation for more details: https://langchain-ai.github.io/langgraph/. Refer here for its pre-built ReAct agent: https://langchain-ai.github.io/langgraph/how-tos/create-react-agent/\n",
      "  conversational_agent = initialize_agent(\n"
     ]
    }
   ],
   "source": [
    "memory = ConversationBufferMemory(memory_key = \"chat_history\")\n",
    "\n",
    "conversational_agent = initialize_agent(\n",
    "    agent = \"conversational-react-description\",\n",
    "    tools = tools,\n",
    "    llm = llm,\n",
    "    verbose = True,\n",
    "    max_iterations = 3,\n",
    "    memory = memory,\n",
    ")"
   ]
  },
  {
   "cell_type": "code",
   "execution_count": 21,
   "id": "d87b2aa0-b29b-4301-81fa-da410a14d039",
   "metadata": {},
   "outputs": [
    {
     "name": "stderr",
     "output_type": "stream",
     "text": [
      "/var/folders/9y/bw4br9h516s_4pbmq21pjhl40000gn/T/ipykernel_3457/684693847.py:1: LangChainDeprecationWarning: The method `Chain.run` was deprecated in langchain 0.1.0 and will be removed in 1.0. Use :meth:`~invoke` instead.\n",
      "  output_1 = conversational_agent.run(\"Add 23 to 77 and tell me the result\")\n"
     ]
    },
    {
     "name": "stdout",
     "output_type": "stream",
     "text": [
      "\n",
      "\n",
      "\u001b[1m> Entering new AgentExecutor chain...\u001b[0m\n",
      "\u001b[32;1m\u001b[1;3mThought: Do I need to use a tool? Yes\n",
      "Action: Calculator\n",
      "Action Input: Add 23 to 77\u001b[0m\n",
      "Observation: \u001b[36;1m\u001b[1;3mAnswer: 100\u001b[0m\n",
      "Thought:\u001b[32;1m\u001b[1;3mDo I need to use a tool? No\n",
      "AI: The result of adding 23 to 77 is 100.\u001b[0m\n",
      "\n",
      "\u001b[1m> Finished chain.\u001b[0m\n",
      "\n",
      "\n",
      "\u001b[1m> Entering new AgentExecutor chain...\u001b[0m\n",
      "\u001b[32;1m\u001b[1;3mThought: Do I need to use a tool? Yes\n",
      "Action: Calculator\n",
      "Action Input: Add 100 to 10\u001b[0m\n",
      "Observation: \u001b[36;1m\u001b[1;3mAnswer: 110\u001b[0m\n",
      "Thought:\u001b[32;1m\u001b[1;3mDo I need to use a tool? No\n",
      "AI: The result of adding 10 to the previous result of 100 is 110.\u001b[0m\n",
      "\n",
      "\u001b[1m> Finished chain.\u001b[0m\n"
     ]
    }
   ],
   "source": [
    "output_1 = conversational_agent.run(\"Add 23 to 77 and tell me the result\")\n",
    "output_2 = conversational_agent.run(\"Add 10 to the previous result\")"
   ]
  },
  {
   "cell_type": "markdown",
   "id": "fb786f5d-262c-487f-9f58-777c6f2c5958",
   "metadata": {},
   "source": [
    "### ReAct Docstore"
   ]
  },
  {
   "cell_type": "code",
   "execution_count": 30,
   "id": "ce1e3ec0-7e9d-4973-96de-384edbaff7c4",
   "metadata": {},
   "outputs": [],
   "source": [
    "# !pip install wikipedia"
   ]
  },
  {
   "cell_type": "code",
   "execution_count": 40,
   "id": "9cdf66a7-44a2-4645-8d43-b90dc0d8c8b0",
   "metadata": {},
   "outputs": [],
   "source": [
    "from langchain import Wikipedia\n",
    "from langchain.agents.react.base import DocstoreExplorer\n",
    "from langchain.agents import initialize_agent, Tool\n",
    "from langchain_openai import OpenAI"
   ]
  },
  {
   "cell_type": "code",
   "execution_count": 83,
   "id": "e970df6a-4e4d-420c-86ac-4c2365b6e66d",
   "metadata": {},
   "outputs": [],
   "source": [
    "docstore = DocstoreExplorer(Wikipedia())\n",
    "tools = [\n",
    "    Tool(name = \"Search\", func = docstore.search, description = \"useful for when you need to search wikipedia\"),\n",
    "    Tool(name = \"Lookup\", func = docstore.lookup, description = \"useful for when you need to look up a term in wikipedia\")\n",
    "]\n",
    "\n",
    "llm = OpenAI(temperature = 0)\n",
    "\n",
    "docstore_agent = initialize_agent(\n",
    "    tools,\n",
    "    llm,\n",
    "    agent = \"react-docstore\",\n",
    "    verbose = True,\n",
    "    handling_parsing_errors = True,\n",
    "    max_iterations = 8\n",
    ")"
   ]
  },
  {
   "cell_type": "code",
   "execution_count": 58,
   "id": "5965a509-6ca6-4812-a0a2-ca4cc6f8fb71",
   "metadata": {},
   "outputs": [
    {
     "name": "stdout",
     "output_type": "stream",
     "text": [
      "\n",
      "\n",
      "\u001b[1m> Entering new AgentExecutor chain...\u001b[0m\n",
      "\u001b[32;1m\u001b[1;3mThought: I need to search Cristiano Ronaldo and find key information about him.\n",
      "Action: Search[Cristiano Ronaldo]\u001b[0m\n",
      "Observation: \u001b[36;1m\u001b[1;3mCristiano Ronaldo dos Santos Aveiro  (Portuguese pronunciation: [kɾiʃˈtjɐnu ʁɔˈnaldu] ; born 5 February 1985) is a Portuguese professional footballer who plays as a forward for and captains both the Saudi Pro League club Al Nassr and the Portugal national team. Widely regarded as one of the greatest players of all time, Ronaldo has won numerous individual accolades throughout his career, such as five Ballon d'Or awards, a record three UEFA Men's Player of the Year Awards, four European Golden Shoes, and was named five times the world's best player by FIFA, the most by a European player. He has won 33 trophies in his career, including seven league titles, five UEFA Champions Leagues, the UEFA European Championship and the UEFA Nations League. Ronaldo holds the records for most appearances (183), goals (140) and assists (42) in the Champions League, most appearances (30), assists (8), goals in the European Championship (14), international appearances (217) and international goals (135). He is one of the few players to have made over 1,200 professional career appearances, the most by an outfield player, and has scored over 900 official senior career goals for club and country, making him the top goalscorer of all time.\n",
      "Ronaldo began his senior career with Sporting CP, before signing with Manchester United in 2003, winning the FA Cup in his first season. He went on to win three consecutive Premier League titles, the Champions League and the FIFA Club World Cup; at age 23, he won his first Ballon d'Or. Ronaldo was the subject of the then-most expensive association football transfer when he signed for Real Madrid in 2009 in a transfer worth €94 million (£80 million). He became a key contributor and formed an attacking trio with Karim Benzema and Gareth Bale which was integral to the team winning four Champions Leagues from 2014 to 2018, including La Décima. During this period, he won back-to-back Ballons d'Or in 2013 and 2014, and again in 2016 and 2017, and was runner-up three times behind Lionel Messi, his perceived career rival. He also became the club's all-time top goalscorer and the all-time top scorer in the Champions League, and finished as the competition's top scorer for six consecutive seasons between 2012 and 2018. With Real, Ronaldo won four Champions Leagues, two La Liga titles, two Copas del Rey, two UEFA Super Cups and three Club World Cups. In 2018, he signed for Juventus in a transfer worth an initial €100 million (£88 million), the most expensive transfer for an Italian club and for a player over 30 years old. He won two Serie A titles, two Supercoppa Italiana trophies and a Coppa Italia, became the inaugural Serie A Most Valuable Player, and the first footballer to finish as top scorer in the English, Spanish and Italian leagues. He returned to Manchester United in 2021, finishing his only full season as the club's top scorer, before his contract was terminated in 2022. In 2023, he signed for Al Nassr.\n",
      "Ronaldo made his international debut for Portugal in 2003 at the age of 18 and has earned more than 200 caps, making him history's most-capped male player. With 130 international goals, he is also the all-time top male goalscorer. Ronaldo has played in eleven major tournaments and scored in ten; he scored his first international goal at Euro 2004, where he helped Portugal reach the final. He assumed captaincy of the national team in July 2008. In 2015, Ronaldo was named the best Portuguese player of all time by the Portuguese Football Federation. The following year, he led Portugal to their first major tournament title at Euro 2016, and received the Silver Boot as the second-highest goalscorer of the tournament. This achievement saw him receive his fourth Ballon d'Or. He also led them to victory in the inaugural UEFA Nations League in 2019, receiving the top scorer award in the finals, and later received the Golden Boot as top scorer of Euro 2020. The same tournament, he broke the record of most international goals scored in men's football and became the player with the most international caps in men's football in 2023.\n",
      "One of the world's most marketable and famous athletes, Ronaldo was ranked the world's highest-paid athlete by Forbes in 2016, 2017, 2023, and 2024 and the world's most famous athlete by ESPN from 2016 to 2019. Time included him on their list of the 100 most influential people in the world in 2014. Ronaldo is the most popular sportsperson on social media: he counts over 1 billion total followers across Facebook, Twitter, YouTube and Instagram, making him the first person to achieve that feat. In 2020, Ronaldo was named to the Ballon d'Or Dream Team and he is the first footballer and the third sportsman to earn US$1 billion in his career.\u001b[0m\n",
      "Thought:\u001b[32;1m\u001b[1;3m Cristiano Ronaldo is a Portuguese professional footballer who plays as a forward for Al Nassr and the Portugal national team. He has won numerous individual accolades and holds multiple records in football. He has played for Sporting CP, Manchester United, Real Madrid, Juventus, and Manchester United again. He is the most-capped male player in history and the all-time top male goalscorer. He is also one of the world's most marketable and famous athletes, with a large social media following and a net worth of over $1 billion. \n",
      "Action: Finish[Cristiano Ronaldo is a Portuguese professional footballer, has won numerous individual accolades and holds multiple records, has played for multiple clubs, is the most-capped male player in history and the all-time top male goalscorer, and is one of the world's most marketable and famous athletes with a large social media following and a net worth of over $1 billion.]\u001b[0m\n",
      "\n",
      "\u001b[1m> Finished chain.\u001b[0m\n"
     ]
    },
    {
     "data": {
      "text/plain": [
       "\"Cristiano Ronaldo is a Portuguese professional footballer, has won numerous individual accolades and holds multiple records, has played for multiple clubs, is the most-capped male player in history and the all-time top male goalscorer, and is one of the world's most marketable and famous athletes with a large social media following and a net worth of over $1 billion.\""
      ]
     },
     "execution_count": 58,
     "metadata": {},
     "output_type": "execute_result"
    }
   ],
   "source": [
    "docstore_agent.run(\"Tell me a few key things about Cristiano Ronaldo\")"
   ]
  },
  {
   "cell_type": "code",
   "execution_count": 60,
   "id": "187ef84c-140e-4d65-9b2a-3d9dcc532af7",
   "metadata": {},
   "outputs": [
    {
     "name": "stdout",
     "output_type": "stream",
     "text": [
      "\n",
      "\n",
      "\u001b[1m> Entering new AgentExecutor chain...\u001b[0m\n",
      "\u001b[32;1m\u001b[1;3mThought: I need to search Mahatma Gandhi and find key information about him.\n",
      "Action: Search[Mahatma Gandhi]\u001b[0m\n",
      "Observation: \u001b[36;1m\u001b[1;3mMohandas Karamchand Gandhi (2 October 1869 – 30 January 1948) was an Indian lawyer, anti-colonial nationalist, and political ethicist who employed nonviolent resistance to lead the successful campaign for India's independence from British rule. He inspired movements for civil rights and freedom across the world. The honorific Mahātmā (from Sanskrit, meaning great-souled or venerable), first applied to him in South Africa in 1914, is now used throughout the world.\n",
      "Born and raised in a Hindu family in coastal Gujarat, Gandhi trained in the law at the Inner Temple in London and was called to the bar at the age of 22. After two uncertain years in India, where he was unable to start a successful law practice, Gandhi moved to South Africa in 1893 to represent an Indian merchant in a lawsuit. He went on to live in South Africa for 21 years. Here, Gandhi raised a family and first employed nonviolent resistance in a campaign for civil rights. In 1915, aged 45, he returned to India and soon set about organising peasants, farmers, and urban labourers to protest against discrimination and excessive land tax.\n",
      "Assuming leadership of the Indian National Congress in 1921, Gandhi led nationwide campaigns for easing poverty, expanding women's rights, building religious and ethnic amity, ending untouchability, and, above all, achieving swaraj or self-rule. Gandhi adopted the short dhoti woven with hand-spun yarn as a mark of identification with India's rural poor. He began to live in a self-sufficient residential community, to eat simple food, and undertake long fasts as a means of both introspection and political protest. Bringing anti-colonial nationalism to the common Indians, Gandhi led them in challenging the British-imposed salt tax with the 400 km (250 mi) Dandi Salt March in 1930 and in calling for the British to quit India in 1942. He was imprisoned many times and for many years in both South Africa and India.\n",
      "Gandhi's vision of an independent India based on religious pluralism was challenged in the early 1940s by a Muslim nationalism which demanded a separate homeland for Muslims within British India. In August 1947, Britain granted independence, but the British Indian Empire was partitioned into two dominions, a Hindu-majority India and a Muslim-majority Pakistan. As many displaced Hindus, Muslims, and Sikhs made their way to their new lands, religious violence broke out, especially in the Punjab and Bengal. Abstaining from the official celebration of independence, Gandhi visited the affected areas, attempting to alleviate distress. In the months following, he undertook several hunger strikes to stop the religious violence. The last of these was begun in Delhi on 12 January 1948, when Gandhi was 78. The belief that Gandhi had been too resolute in his defence of both Pakistan and Indian Muslims spread among some Hindus in India. Among these was Nathuram Godse, a militant Hindu nationalist from Pune, western India, who assassinated Gandhi by firing three bullets into his chest at an interfaith prayer meeting in Delhi on 30 January 1948. \n",
      "Gandhi's birthday, 2 October, is commemorated in India as Gandhi Jayanti, a national holiday, and worldwide as the International Day of Nonviolence. Gandhi is considered to be the Father of the Nation in post-colonial India. During India's nationalist movement and in several decades immediately after, he was also commonly called Bapu, an endearment roughly meaning \"father\".\u001b[0m\n",
      "Thought:\u001b[32;1m\u001b[1;3m Mahatma Gandhi was an Indian lawyer, anti-colonial nationalist, and political ethicist who employed nonviolent resistance to lead the successful campaign for India's independence from British rule. He is also known as the Father of the Nation in post-colonial India and is commemorated on his birthday, October 2nd, as Gandhi Jayanti. He is also known for his use of nonviolent resistance and civil disobedience to bring about social and political change. He was assassinated in 1948 by a militant Hindu nationalist. \n",
      "Action: Finish[Indian lawyer, anti-colonial nationalist, political ethicist, nonviolent resistance, Father of the Nation, Gandhi Jayanti, nonviolent resistance, civil disobedience, assassinated by militant Hindu nationalist]\u001b[0m\n",
      "\n",
      "\u001b[1m> Finished chain.\u001b[0m\n"
     ]
    },
    {
     "data": {
      "text/plain": [
       "{'input': 'Tell me a few key things about Mahatma Gandhi',\n",
       " 'output': 'Indian lawyer, anti-colonial nationalist, political ethicist, nonviolent resistance, Father of the Nation, Gandhi Jayanti, nonviolent resistance, civil disobedience, assassinated by militant Hindu nationalist'}"
      ]
     },
     "execution_count": 60,
     "metadata": {},
     "output_type": "execute_result"
    }
   ],
   "source": [
    "docstore_agent.invoke(\"Tell me a few key things about Mahatma Gandhi\")"
   ]
  },
  {
   "cell_type": "markdown",
   "id": "a24e1668-e082-4c99-a7c1-26d6b8b6452e",
   "metadata": {},
   "source": [
    "### Docstore in LangChain is essentially a storage system of documents"
   ]
  },
  {
   "cell_type": "markdown",
   "id": "4ed5db21-d61c-494f-9a25-a3e163231951",
   "metadata": {},
   "source": [
    "### Self-ask with Search\n",
    "This agent utilizes the intermediate answer tool for self asking questions"
   ]
  },
  {
   "cell_type": "markdown",
   "id": "c354adf6-d084-4059-8775-1ca8b4a9583c",
   "metadata": {},
   "source": [
    "#### The Self-Ask approach allows for an LLM to give answers to questions it was not explicitly trained on. The model might not have the direct answer to a question, but answers to sub-questions will exist in the LLM dataset. It achieves by obtaining Intermediate answers"
   ]
  },
  {
   "cell_type": "code",
   "execution_count": 91,
   "id": "e9b7e683-fe8f-4dca-a4d6-40ea2bffa7cb",
   "metadata": {},
   "outputs": [],
   "source": [
    "!pip install --upgrade --quiet duckduckgo-search"
   ]
  },
  {
   "cell_type": "code",
   "execution_count": 198,
   "id": "1a62b279-d42f-42d7-bf78-1cdc0e5f5d92",
   "metadata": {},
   "outputs": [],
   "source": [
    "from langchain.tools import DuckDuckGoSearchRun\n",
    "\n",
    "search = DuckDuckGoSearchRun()\n",
    "\n",
    "tools = [\n",
    "    Tool(\n",
    "        func = search.run,\n",
    "        name = \"Intermediate Answer\",\n",
    "        description = \"useful for when you need to search the internet for information\"\n",
    "    )\n",
    "]\n",
    "\n",
    "\n",
    "agent = initialize_agent(\n",
    "    tools,\n",
    "    llm = OpenAI(model_name = \"gpt-3.5-turbo-instruct\", temperature = 0.9) ,\n",
    "    agent = \"self-ask-with-search\",\n",
    "    verbose = True,\n",
    "    handle_parsing_errors = True\n",
    ")"
   ]
  },
  {
   "cell_type": "code",
   "execution_count": 204,
   "id": "a45b0965-a01e-411b-96ee-3cb80dfad2a0",
   "metadata": {},
   "outputs": [
    {
     "name": "stdout",
     "output_type": "stream",
     "text": [
      "\n",
      "\n",
      "\u001b[1m> Entering new AgentExecutor chain...\u001b[0m\n",
      "\u001b[32;1m\u001b[1;3mCould not parse output:  No.\n",
      "Final answer: The President of the United States when the iPhone was first released was George W. Bush.\n",
      "For troubleshooting, visit: https://python.langchain.com/docs/troubleshooting/errors/OUTPUT_PARSING_FAILURE \u001b[0m\n",
      "Intermediate answer: Invalid or incomplete response\n",
      "\u001b[32;1m\u001b[1;3mCould not parse output: \n",
      "For troubleshooting, visit: https://python.langchain.com/docs/troubleshooting/errors/OUTPUT_PARSING_FAILURE \u001b[0m\n",
      "Intermediate answer: Invalid or incomplete response\n",
      "\u001b[32;1m\u001b[1;3mSo the final answer is: George W. Bush\u001b[0m\n",
      "\n",
      "\u001b[1m> Finished chain.\u001b[0m\n",
      "{'input': 'Question: Who was the President of the United States when the iPhone was first released?', 'output': 'George W. Bush'}\n"
     ]
    }
   ],
   "source": [
    "print(agent.invoke(\"Question: Who was the President of the United States when the iPhone was first released?\"))"
   ]
  },
  {
   "cell_type": "markdown",
   "id": "bc09dcff-286b-4082-b285-83d9f0bd3ac3",
   "metadata": {},
   "source": [
    "### Usually, should ahve used the code with temperature = 0, but there was some issue with the model being used, hence to get the final output, increased temperature to 0.9."
   ]
  },
  {
   "cell_type": "code",
   "execution_count": 219,
   "id": "4512bcf7-69c8-4daa-b3db-f0c9c4437afd",
   "metadata": {},
   "outputs": [
    {
     "name": "stdout",
     "output_type": "stream",
     "text": [
      "\n",
      "\n",
      "\u001b[1m> Entering new AgentExecutor chain...\u001b[0m\n",
      "\u001b[32;1m\u001b[1;3mCould not parse output:  No. The answer can be found in the initial question.\n",
      "For troubleshooting, visit: https://python.langchain.com/docs/troubleshooting/errors/OUTPUT_PARSING_FAILURE \u001b[0m\n",
      "Intermediate answer: Invalid or incomplete response\n",
      "\u001b[32;1m\u001b[1;3mSo the final answer is: The question needs to be rephrased to get an accurate answer.\u001b[0m\n",
      "\n",
      "\u001b[1m> Finished chain.\u001b[0m\n",
      "{'input': 'Question: Who was the President of the US when the world trade center, the Pentagon was attacked?', 'output': 'The question needs to be rephrased to get an accurate answer.'}\n"
     ]
    }
   ],
   "source": [
    "print(agent.invoke(\"Question: Who was the President of the US when the world trade center, the Pentagon was attacked?\"))"
   ]
  }
 ],
 "metadata": {
  "kernelspec": {
   "display_name": "Python [conda env:base] *",
   "language": "python",
   "name": "conda-base-py"
  },
  "language_info": {
   "codemirror_mode": {
    "name": "ipython",
    "version": 3
   },
   "file_extension": ".py",
   "mimetype": "text/x-python",
   "name": "python",
   "nbconvert_exporter": "python",
   "pygments_lexer": "ipython3",
   "version": "3.12.7"
  }
 },
 "nbformat": 4,
 "nbformat_minor": 5
}
