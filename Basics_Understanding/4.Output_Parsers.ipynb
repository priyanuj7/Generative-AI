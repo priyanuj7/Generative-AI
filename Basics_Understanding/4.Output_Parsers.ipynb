{
 "cells": [
  {
   "cell_type": "markdown",
   "id": "f598dacf-d44a-4243-a362-530d361461a6",
   "metadata": {},
   "source": [
    "## Output Parsers\n",
    "\n",
    "### Output parsers in LangChain are specialized classes that transform the output of large language models (LLMs) into a more suitable format. This is useful when using LLMs to generate structured data.\n",
    "\n",
    "### Prompt Template + LLM + Output Parser ========> Formatted Output"
   ]
  },
  {
   "cell_type": "code",
   "execution_count": 7,
   "id": "0d307a76-1dc5-479e-94d4-eadd6a9f8f9b",
   "metadata": {},
   "outputs": [
    {
     "data": {
      "text/plain": [
       "True"
      ]
     },
     "execution_count": 7,
     "metadata": {},
     "output_type": "execute_result"
    }
   ],
   "source": [
    "from langchain.output_parsers import CommaSeparatedListOutputParser\n",
    "from langchain.prompts import PromptTemplate\n",
    "from langchain_openai import ChatOpenAI\n",
    "from dotenv import load_dotenv\n",
    "load_dotenv()"
   ]
  },
  {
   "cell_type": "code",
   "execution_count": 9,
   "id": "1d47adf6-dd55-4e0d-89dd-a24ad1618863",
   "metadata": {},
   "outputs": [],
   "source": [
    "model = ChatOpenAI(temperature=0)"
   ]
  },
  {
   "cell_type": "markdown",
   "id": "94cdddb1-b842-492f-a33b-58bc5c744474",
   "metadata": {},
   "source": [
    "### CSV Parser"
   ]
  },
  {
   "cell_type": "code",
   "execution_count": 15,
   "id": "a5107b12-769e-4553-829f-29b4ab8d10a8",
   "metadata": {},
   "outputs": [],
   "source": [
    "output_parser = CommaSeparatedListOutputParser()\n",
    "\n",
    "format_instructions = output_parser.get_format_instructions()\n",
    "\n",
    "prompt = PromptTemplate(\n",
    "    template = \"List five places {places}.\\n{format_instructions}\",\n",
    "    input_variables = [\"places\"],\n",
    "    partial_variables = {\"format_instructions\": format_instructions},\n",
    ")"
   ]
  },
  {
   "cell_type": "code",
   "execution_count": 17,
   "id": "73516b83-9bf5-4422-9d47-9dc206707692",
   "metadata": {},
   "outputs": [],
   "source": [
    "chain = prompt | model | output_parser"
   ]
  },
  {
   "cell_type": "code",
   "execution_count": 19,
   "id": "f0dad854-e936-4fbc-81a6-43019878ff91",
   "metadata": {},
   "outputs": [
    {
     "data": {
      "text/plain": [
       "['Goa', 'Manali', 'Jaipur', 'Kerala', 'Ladakh']"
      ]
     },
     "execution_count": 19,
     "metadata": {},
     "output_type": "execute_result"
    }
   ],
   "source": [
    "chain.invoke({\"places\": \"for summer tourism in India\"})"
   ]
  },
  {
   "cell_type": "markdown",
   "id": "773077b6-ccda-4ccf-8131-86c7606c854a",
   "metadata": {},
   "source": [
    "### JSON Parser\n",
    "\n",
    "### This output parser allows users to specify a JSON schema and query LLMs for outputs that confirm to that schema. Keep in mind that large language models are leaky abstractions. You will have to use an LLM with sufficient capacity to generate well-formed JSON. In the OpenAI family, DaVinci can do reliably but Curie's ability drops off dramatically"
   ]
  },
  {
   "cell_type": "code",
   "execution_count": 49,
   "id": "93eefcf7-34ae-4588-a58a-fec63c8ce7d8",
   "metadata": {},
   "outputs": [],
   "source": [
    "from typing import List\n",
    "from langchain_core.output_parsers import JsonOutputParser\n",
    "from pydantic import BaseModel, Field"
   ]
  },
  {
   "cell_type": "markdown",
   "id": "c76d33b0-9dd7-419e-a819-25637a82ed5d",
   "metadata": {},
   "source": [
    "### With Pydantic"
   ]
  },
  {
   "cell_type": "code",
   "execution_count": 51,
   "id": "7a484763-e311-44b9-b661-44c5e1afcc8d",
   "metadata": {},
   "outputs": [],
   "source": [
    "class Travel(BaseModel):\n",
    "    place: str = Field(description = \"name of the places\")\n",
    "    description: str = Field(description = \"description of the place\")\n",
    "    activities: str = Field(description = \"what to do in that place\")"
   ]
  },
  {
   "cell_type": "code",
   "execution_count": 55,
   "id": "c7ee5c9d-5e1a-4dd9-bc50-35060436caeb",
   "metadata": {},
   "outputs": [
    {
     "data": {
      "text/plain": [
       "{'place': 'Leh-Ladakh',\n",
       " 'description': 'A high-altitude desert region in the northern part of India, known for its stunning landscapes, Buddhist monasteries, and adventurous activities like trekking and river rafting.',\n",
       " 'activities': 'Explore the monasteries, go trekking in the Himalayas, visit Pangong Lake, experience the local culture and cuisine.'}"
      ]
     },
     "execution_count": 55,
     "metadata": {},
     "output_type": "execute_result"
    }
   ],
   "source": [
    "travel_query = \"Suggest a place in India for going on a trip this summer to avoid heat.\"\n",
    "\n",
    "\n",
    "parser = JsonOutputParser(pydantic_object = Travel)\n",
    "\n",
    "prompt = PromptTemplate(\n",
    "    template = \"Answer the user quert.\\n{format_instructions}\\n{query}\\n\",\n",
    "    input_variables = [\"query\"],\n",
    "    partial_variables = {\"format_instructions\": parser.get_format_instructions()},\n",
    ")\n",
    "\n",
    "chain = prompt | model | parser\n",
    "\n",
    "chain.invoke({\"query\": travel_query})"
   ]
  },
  {
   "cell_type": "markdown",
   "id": "5e73a6e6-051f-467b-95bf-ace72c44baf2",
   "metadata": {},
   "source": [
    "### Without Pydantic"
   ]
  },
  {
   "cell_type": "code",
   "execution_count": 59,
   "id": "b263b8a5-4925-4fdf-954d-bca78251d079",
   "metadata": {},
   "outputs": [
    {
     "data": {
      "text/plain": [
       "{'destination': 'Leh-Ladakh',\n",
       " 'description': 'Located in the northernmost region of India, Leh-Ladakh offers a cool and pleasant climate during the summer months. With its stunning landscapes, monasteries, and adventure activities like trekking and river rafting, it is the perfect destination to escape the heat.',\n",
       " 'activities': ['Trekking',\n",
       "  'River rafting',\n",
       "  'Visiting monasteries',\n",
       "  'Exploring the stunning landscapes'],\n",
       " 'average temperature': '15-25 degrees Celsius'}"
      ]
     },
     "execution_count": 59,
     "metadata": {},
     "output_type": "execute_result"
    }
   ],
   "source": [
    "travel_query = \"Suggest a place in India for going on a trip this summer to avoid heat.\"\n",
    "\n",
    "\n",
    "parser = JsonOutputParser()\n",
    "\n",
    "prompt = PromptTemplate(\n",
    "    template = \"Answer the user quert.\\n{format_instructions}\\n{query}\\n\",\n",
    "    input_variables = [\"query\"],\n",
    "    partial_variables = {\"format_instructions\": parser.get_format_instructions()},\n",
    ")\n",
    "\n",
    "\n",
    "chain = prompt | model | parser\n",
    "\n",
    "chain.invoke({\"query\": travel_query})"
   ]
  },
  {
   "cell_type": "markdown",
   "id": "df45785f-b6ff-4b70-8263-287aa9f944b2",
   "metadata": {},
   "source": [
    "### Pydantic helps us to keep a track of how the variables are coming in and to control for the data formats and manipulations"
   ]
  },
  {
   "cell_type": "markdown",
   "id": "34febde0-3725-4b43-a360-ff2fbeb31379",
   "metadata": {},
   "source": [
    "### Structured Output Parser\n",
    "\n",
    "Getting structured output without using Pydantic"
   ]
  },
  {
   "cell_type": "code",
   "execution_count": 63,
   "id": "d3c59057-d0e2-491f-8bb1-cc94b2e50771",
   "metadata": {},
   "outputs": [],
   "source": [
    "from langchain.output_parsers import ResponseSchema, StructuredOutputParser"
   ]
  },
  {
   "cell_type": "code",
   "execution_count": 65,
   "id": "7da17cda-6f54-4068-bace-76f5a74cec22",
   "metadata": {},
   "outputs": [],
   "source": [
    "response_schemas = [\n",
    "    ResponseSchema(name=\"answer\", description = \"answer to the user's question\"),\n",
    "    ResponseSchema(name=\"description\", description = \"detailed description on the answer topic\"),\n",
    "    ResponseSchema(name=\"applications\", description = \"real world applications of the answer topic\"),\n",
    "]\n",
    "\n",
    "output_parser = StructuredOutputParser.from_response_schemas(response_schemas)"
   ]
  },
  {
   "cell_type": "code",
   "execution_count": 73,
   "id": "e8628c79-0b82-4842-a4f5-9c54289b62e9",
   "metadata": {},
   "outputs": [],
   "source": [
    "format_instructions = output_parser.get_format_instructions()\n",
    "\n",
    "prompt = PromptTemplate(\n",
    "    template = \"answer the users question as best as possible.\\n{format_instructions}\\n{question}\",\n",
    "    input_variables = [\"question\"],\n",
    "    partial_variables = {\"format_instructions\": format_instructions},\n",
    ")"
   ]
  },
  {
   "cell_type": "code",
   "execution_count": 75,
   "id": "3417f60e-9a61-4f9c-a6a5-8fdd5a0553a4",
   "metadata": {},
   "outputs": [
    {
     "data": {
      "text/plain": [
       "{'answer': 'Telemedicine',\n",
       " 'description': 'Telemedicine is the remote diagnosis and treatment of patients using telecommunications technology. It has revolutionized healthcare by allowing patients to consult with healthcare providers remotely, reducing the need for in-person visits and improving access to medical care.',\n",
       " 'applications': 'Telemedicine is used for virtual doctor visits, remote monitoring of patients with chronic conditions, telepsychiatry, telestroke services, and more. It has been particularly valuable during the COVID-19 pandemic for providing safe and efficient healthcare services.'}"
      ]
     },
     "execution_count": 75,
     "metadata": {},
     "output_type": "execute_result"
    }
   ],
   "source": [
    "chain = prompt | model | output_parser\n",
    "chain.invoke({\"question\": \"Name an invention in Healthcare that has caused revolution in the twenty first century.\"})"
   ]
  }
 ],
 "metadata": {
  "kernelspec": {
   "display_name": "Python [conda env:base] *",
   "language": "python",
   "name": "conda-base-py"
  },
  "language_info": {
   "codemirror_mode": {
    "name": "ipython",
    "version": 3
   },
   "file_extension": ".py",
   "mimetype": "text/x-python",
   "name": "python",
   "nbconvert_exporter": "python",
   "pygments_lexer": "ipython3",
   "version": "3.12.7"
  }
 },
 "nbformat": 4,
 "nbformat_minor": 5
}
