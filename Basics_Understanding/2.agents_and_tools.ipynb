{
 "cells": [
  {
   "cell_type": "markdown",
   "id": "0645694d-aeaf-4c8c-a176-13b667cfe7c5",
   "metadata": {},
   "source": [
    "### Agents in LangChain are components that utilize Language Models along with a sequence of actions to take. The agent uses a Reasoning Engine to determing which actions to take to get a result. Agents are crucial for handling tasks ranging from simple automated responses to complex, context-aware interactions"
   ]
  },
  {
   "cell_type": "markdown",
   "id": "f0e2c3e2-c23b-4031-8f5f-2a0eb96ba5db",
   "metadata": {},
   "source": [
    "### Tools are interfaces that an agent can use to interact with the world. Tools typically comprise of the following:\n",
    "1. Name of the tool\n",
    "2. A description of what the tool does\n",
    "3. JSON Schema of what the input to the tool are\n",
    "4. The function to call\n",
    "5. Whether the result of a tool should be returned directly to the user\n",
    "\n",
    "### Importantly, the name, description and JSON schema, are all used in the prompt (if used). Therefore, it is really important that they are clear and describe exactly how the tool should be used. We may need to change the default name, description or JSON schema if the LLM is not understanding how to use the tool.\n",
    "\n",
    "### Agent identifies key ideas in users questions, looks at all the tools we have put at its disposal (specifically the tools title and descriptions), and then combined with the system prompt and the optional agent instructions, decides on which tool to use"
   ]
  },
  {
   "cell_type": "markdown",
   "id": "b888424c-f25a-41f1-a551-7d510fec60dd",
   "metadata": {},
   "source": [
    "### ReAct Agents\n",
    "#### ReAct, stands for Reasoning + Acting, combines reasoning and acting to solve complex language reasoning and decision-making tasks. This is achieved through text actions that the model can use to ask questions or perform tasks to gain more information and better understand a situation. For instance, when faced with a multi-hop reasoning question, ReAct might initiate mnultiple search actions, or calls to external tools or custom tools within your program."
   ]
  },
  {
   "cell_type": "markdown",
   "id": "bc708a12-d1a2-46ca-8b18-d75c6bdc9be6",
   "metadata": {},
   "source": [
    "### Agents and Tools\n",
    "\n",
    "### Agents: Agents enable LLMs to work with tools that perform various tasks\n",
    "To use agents, we require three things:\n",
    "1. A base LLM\n",
    "2. A tool that will be interacting with\n",
    "3. An agent to control the interaction"
   ]
  },
  {
   "cell_type": "markdown",
   "id": "e67b39a3-4a19-40c5-9161-abe5bc03b41a",
   "metadata": {},
   "source": [
    "### In the following example, we will use the Math tool to perform some simple math operations"
   ]
  },
  {
   "cell_type": "code",
   "execution_count": 1,
   "id": "8a4d8104-00bc-47d7-90ae-409d4cdad4ba",
   "metadata": {},
   "outputs": [
    {
     "data": {
      "text/plain": [
       "True"
      ]
     },
     "execution_count": 1,
     "metadata": {},
     "output_type": "execute_result"
    }
   ],
   "source": [
    "from dotenv import load_dotenv\n",
    "from langchain_openai import OpenAI\n",
    "import warnings\n",
    "warnings.filterwarnings(\"ignore\")\n",
    "load_dotenv()"
   ]
  },
  {
   "cell_type": "code",
   "execution_count": 2,
   "id": "80c4e134-60a4-4bd1-904d-70a6803feca2",
   "metadata": {},
   "outputs": [],
   "source": [
    "llm = OpenAI(\n",
    "    temperature = 0,\n",
    "    model = \"gpt-3.5-turbo-instruct\"\n",
    ")\n",
    "# Put temperature = 0 here because we do not want creativity with Math, we want determined mathematical reasoning"
   ]
  },
  {
   "cell_type": "code",
   "execution_count": 5,
   "id": "b21dfceb-36fa-470b-91c4-309bad52c96b",
   "metadata": {},
   "outputs": [],
   "source": [
    "from langchain.chains import LLMMathChain\n",
    "from langchain.agents import Tool"
   ]
  },
  {
   "cell_type": "code",
   "execution_count": 11,
   "id": "d943bf51-cf75-41fb-bfc8-73fd47f30824",
   "metadata": {},
   "outputs": [],
   "source": [
    "llm_math = LLMMathChain(llm=llm)\n",
    "\n",
    "math_tool = Tool(\n",
    "    name = \"Calculator\",\n",
    "    func = llm_math.run,\n",
    "    description = \"Useful for when you need to answer questions about math.\"\n",
    ")\n",
    "\n",
    "tools = [math_tool]"
   ]
  },
  {
   "cell_type": "code",
   "execution_count": 13,
   "id": "5f2b52f6-3307-491c-8fb9-b584c020d9fa",
   "metadata": {},
   "outputs": [
    {
     "name": "stdout",
     "output_type": "stream",
     "text": [
      "Calculator ---> Useful for when you need to answer questions about math.\n"
     ]
    }
   ],
   "source": [
    "print(tools[0].name, \"--->\", tools[0].description)"
   ]
  },
  {
   "cell_type": "markdown",
   "id": "75d379d4-78b0-4987-b4e7-464e75f80690",
   "metadata": {},
   "source": [
    "### Creating an agent\n",
    "\n",
    "#### Zero-shot ReAct\n",
    "The zero shot ReAct Agent is a language generation model that can create realistic contexts even without being trained on specific data. It can be used for various tasks such as generating creative text formats, language translation, and generating different types of creative content."
   ]
  },
  {
   "cell_type": "code",
   "execution_count": 18,
   "id": "b80e71af-c473-42b9-8ced-0532b5118825",
   "metadata": {},
   "outputs": [],
   "source": [
    "from langchain.agents import initialize_agent\n",
    "\n",
    "zero_shot_agent = initialize_agent(\n",
    "    agent = \"zero-shot-react-description\",\n",
    "    tools = tools,\n",
    "    llm = llm,\n",
    "    verbose = True,\n",
    "    max_iterations = 10\n",
    ")"
   ]
  },
  {
   "cell_type": "code",
   "execution_count": 30,
   "id": "acd40bae-2e10-441e-8f95-21a62bd33f90",
   "metadata": {},
   "outputs": [
    {
     "name": "stdout",
     "output_type": "stream",
     "text": [
      "\n",
      "\n",
      "\u001b[1m> Entering new AgentExecutor chain...\u001b[0m\n",
      "\u001b[32;1m\u001b[1;3m I should use a calculator to find the square root\n",
      "Action: Calculator\n",
      "Action Input: 25\u001b[0m\n",
      "Observation: \u001b[36;1m\u001b[1;3mAnswer: 25\u001b[0m\n",
      "Thought:\u001b[32;1m\u001b[1;3m This doesn't seem right, I should double check\n",
      "Action: Calculator\n",
      "Action Input: 25\u001b[0m\n",
      "Observation: \u001b[36;1m\u001b[1;3mAnswer: 25\u001b[0m\n",
      "Thought:\u001b[32;1m\u001b[1;3m I should try using a different function\n",
      "Action: Calculator\n",
      "Action Input: 25\u001b[0m\n",
      "Observation: \u001b[36;1m\u001b[1;3mAnswer: 25\u001b[0m\n",
      "Thought:\u001b[32;1m\u001b[1;3m I should try using the square root function\n",
      "Action: Calculator\n",
      "Action Input: 25\u001b[0m\n",
      "Observation: \u001b[36;1m\u001b[1;3mAnswer: 25\u001b[0m\n",
      "Thought:\u001b[32;1m\u001b[1;3m I now know the final answer\n",
      "Final Answer: 5\u001b[0m\n",
      "\n",
      "\u001b[1m> Finished chain.\u001b[0m\n"
     ]
    },
    {
     "data": {
      "text/plain": [
       "{'input': 'What is the root over of 25', 'output': '5'}"
      ]
     },
     "execution_count": 30,
     "metadata": {},
     "output_type": "execute_result"
    }
   ],
   "source": [
    "zero_shot_agent(\"What is the root over of 25\")"
   ]
  },
  {
   "cell_type": "code",
   "execution_count": 28,
   "id": "c14b2a2e-0e95-4507-9add-2918443e2a8a",
   "metadata": {},
   "outputs": [
    {
     "name": "stdout",
     "output_type": "stream",
     "text": [
      "\n",
      "\n",
      "\u001b[1m> Entering new AgentExecutor chain...\u001b[0m\n",
      "\u001b[32;1m\u001b[1;3m I should use a calculator to find the square root\n",
      "Action: Calculator\n",
      "Action Input: 25, 100\u001b[0m\n",
      "Observation: \u001b[36;1m\u001b[1;3mAnswer: 125\u001b[0m\n",
      "Thought:\u001b[32;1m\u001b[1;3m I should take the square root of 125\n",
      "Action: Calculator\n",
      "Action Input: 125\u001b[0m\n",
      "Observation: \u001b[36;1m\u001b[1;3mAnswer: 125\u001b[0m\n",
      "Thought:\u001b[32;1m\u001b[1;3m I now know the final answer\n",
      "Final Answer: The root over of 25 and 100 is 125.\u001b[0m\n",
      "\n",
      "\u001b[1m> Finished chain.\u001b[0m\n"
     ]
    },
    {
     "data": {
      "text/plain": [
       "{'input': 'What is the root over of 25 and 100',\n",
       " 'output': 'The root over of 25 and 100 is 125.'}"
      ]
     },
     "execution_count": 28,
     "metadata": {},
     "output_type": "execute_result"
    }
   ],
   "source": [
    "zero_shot_agent(\"What is the root over of 25 and 100\")"
   ]
  },
  {
   "cell_type": "markdown",
   "id": "cdc36050-e7a7-49ad-94a1-6c6981203389",
   "metadata": {},
   "source": [
    "#### Look at this square root of 100 and 25 is 125, which is not right. This can be further improved with few shot learning agents. One more reason for me to believe GenAI might be a lot hyped up when it comes to logical reasoning. Although, it does make life easy. :-p"
   ]
  },
  {
   "cell_type": "code",
   "execution_count": 37,
   "id": "600b9c73-65c5-4e68-82de-66589abda4dd",
   "metadata": {},
   "outputs": [
    {
     "name": "stdout",
     "output_type": "stream",
     "text": [
      "\n",
      "\n",
      "\u001b[1m> Entering new AgentExecutor chain...\u001b[0m\n",
      "\u001b[32;1m\u001b[1;3m I should use the Calculator tool to find the square root of a number.\n",
      "Action: Calculator\n",
      "Action Input: 25\u001b[0m\n",
      "Observation: \u001b[36;1m\u001b[1;3mAnswer: 25\u001b[0m\n",
      "Thought:\u001b[32;1m\u001b[1;3m I should repeat the same action for 100.\n",
      "Action: Calculator\n",
      "Action Input: 100\u001b[0m\n",
      "Observation: \u001b[36;1m\u001b[1;3mAnswer: 100\u001b[0m\n",
      "Thought:\u001b[32;1m\u001b[1;3m I now know the final answer.\n",
      "Final Answer: The square root of 25 is 5 and the square root of 100 is 10.\u001b[0m\n",
      "\n",
      "\u001b[1m> Finished chain.\u001b[0m\n"
     ]
    },
    {
     "data": {
      "text/plain": [
       "{'input': 'What is the root over of 25 and 100 separately',\n",
       " 'output': 'The square root of 25 is 5 and the square root of 100 is 10.'}"
      ]
     },
     "execution_count": 37,
     "metadata": {},
     "output_type": "execute_result"
    }
   ],
   "source": [
    "zero_shot_agent(\"What is the root over of 25 and 100 separately\")"
   ]
  },
  {
   "cell_type": "markdown",
   "id": "3a573fb6-ee4c-47fb-a2ce-32ec318c4211",
   "metadata": {},
   "source": [
    "### Way of prompting | asking what we need |  matters here."
   ]
  },
  {
   "cell_type": "code",
   "execution_count": 49,
   "id": "4fb31eb9-2b63-4ce4-a5f7-ff05320a712c",
   "metadata": {},
   "outputs": [
    {
     "name": "stdout",
     "output_type": "stream",
     "text": [
      "\n",
      "\n",
      "\u001b[1m> Entering new AgentExecutor chain...\u001b[0m\n",
      "\u001b[32;1m\u001b[1;3m To find the total area of the house, we need to calculate the area of each room and then add them together.\n",
      "Action: Calculator\n",
      "Action Input: 5 * 5\u001b[0m\n",
      "Observation: \u001b[36;1m\u001b[1;3mAnswer: 25\u001b[0m\n",
      "Thought:\u001b[32;1m\u001b[1;3m This is the area of one bedroom.\n",
      "Action: Calculator\n",
      "Action Input: 25 * 2\u001b[0m\n",
      "Observation: \u001b[36;1m\u001b[1;3mAnswer: 50\u001b[0m\n",
      "Thought:\u001b[32;1m\u001b[1;3m This is the area of both bedrooms.\n",
      "Action: Calculator\n",
      "Action Input: 7 * 6\u001b[0m\n",
      "Observation: \u001b[36;1m\u001b[1;3mAnswer: 42\u001b[0m\n",
      "Thought:\u001b[32;1m\u001b[1;3m This is the area of the drawing cum open kitchen.\n",
      "Action: Calculator\n",
      "Action Input: 3 * 2\u001b[0m\n",
      "Observation: \u001b[36;1m\u001b[1;3mAnswer: 6\u001b[0m\n",
      "Thought:\u001b[32;1m\u001b[1;3m This is the area of the balcony.\n",
      "Action: Calculator\n",
      "Action Input: 50 + 42 + 6\u001b[0m\n",
      "Observation: \u001b[36;1m\u001b[1;3mAnswer: 98\u001b[0m\n",
      "Thought:\u001b[32;1m\u001b[1;3m This is the total area of the house.\n",
      "Final Answer: The total area of the house is 98 square metres.\u001b[0m\n",
      "\n",
      "\u001b[1m> Finished chain.\u001b[0m\n"
     ]
    },
    {
     "data": {
      "text/plain": [
       "{'input': '\\n    You are building a house. There are two bedrooms of 5 metres by 5 metres each \\n    and drawing cum open kitchen is 7 metres by 6 metres \\n    and balcony of 3 metres by 2 metres. \\n    What is the total area of your house?\\n',\n",
       " 'output': 'The total area of the house is 98 square metres.'}"
      ]
     },
     "execution_count": 49,
     "metadata": {},
     "output_type": "execute_result"
    }
   ],
   "source": [
    "problem = \"\"\"\n",
    "    You are building a house. There are two bedrooms of 5 metres by 5 metres each \n",
    "    and drawing cum open kitchen is 7 metres by 6 metres \n",
    "    and balcony of 3 metres by 2 metres. \n",
    "    What is the total area of your house?\n",
    "\"\"\"\n",
    "\n",
    "zero_shot_agent(problem)"
   ]
  },
  {
   "cell_type": "markdown",
   "id": "a7772fb9-b268-4bbd-b945-077a44df3556",
   "metadata": {},
   "source": [
    "### Using multiple tools"
   ]
  },
  {
   "cell_type": "code",
   "execution_count": 20,
   "id": "d6876cee-4031-4368-83c3-bf53158188f6",
   "metadata": {},
   "outputs": [],
   "source": [
    "# Defining the Tools\n",
    "\n",
    "from langchain.tools import DuckDuckGoSearchRun\n",
    "\n",
    "search = DuckDuckGoSearchRun()\n",
    "\n",
    "\n",
    "search_tool = Tool.from_function(\n",
    "    func = search.run,\n",
    "    name = \"Search\",\n",
    "    description = \"useful for when you need to search the internet for information\"\n",
    ")\n",
    "\n",
    "llm_math_chain = LLMMathChain(llm=llm, verbose = True)\n",
    "\n",
    "math_tool = Tool.from_function(\n",
    "    name = \"Calculator\",\n",
    "    func = llm_math_chain.run,\n",
    "    description = \"Useful for when you are asked to perform math calculations\"\n",
    ")\n"
   ]
  },
  {
   "cell_type": "code",
   "execution_count": 38,
   "id": "f8847a52-f336-4e1d-a27e-055a6afa28bd",
   "metadata": {},
   "outputs": [],
   "source": [
    "tools = [search_tool, math_tool]\n",
    "\n",
    "agent = initialize_agent(\n",
    "    tools,\n",
    "    llm,\n",
    "    agent = \"zero-shot-react-description\",\n",
    "    verbose = True,\n",
    "    max_iterations = 2\n",
    ")"
   ]
  },
  {
   "cell_type": "code",
   "execution_count": 48,
   "id": "079b0f6e-2e9d-4e8a-baea-e121bbb3de71",
   "metadata": {},
   "outputs": [
    {
     "name": "stdout",
     "output_type": "stream",
     "text": [
      "\n",
      "\n",
      "\u001b[1m> Entering new AgentExecutor chain...\u001b[0m\n",
      "\u001b[32;1m\u001b[1;3m I should use the Search tool to find information about Cristiano Ronaldo's age and birthday\n",
      "Action: Search\n",
      "Action Input: 'Cristiano Ronaldo age and birthday'\u001b[0m\n",
      "Observation: \u001b[36;1m\u001b[1;3mCristiano Ronaldo (born February 5, 1985, Funchal, Madeira, Portugal) is a Portuguese football (soccer) forward who is one of the greatest players of his generation. Ronaldo is the winner of five Ballon d'Or awards (2008, 2013, 2014, 2016, and 2017), and in 2024 he became the first men's player to score 900 career goals in official matches.. Early life and career Cristiano Ronaldo Age. Ronaldo was born on 5 February 1985 and is currently 39 years old. Club career. Before joining Manchester United in 2003 and winning the FA Cup in his debut season, Ronaldo started his senior career at Sporting CP. Along with winning the FIFA Club World Cup, the Champions League, and three straight Premier League ... Cristiano Ronaldo dos Santos Aveiro was born in Funchal, Madeira Islands in early 1985 to Maria Dolores dos Santos and José Dinis Aveiro. [19] He has one brother named Hugo, and two sisters named Katia and Elma. [20] Ronaldo was diagnosed with a racing heart (Tachycardia) at age 15 in 2000. In 1997, 12-year-old Ronaldo went on a trial with Sporting CP. [21] Cristiano Ronaldo turned 39 on February 5. ... Cristiano Ronaldo 39th birthday: Year-by-year career stats as CR7 celebrates on February 5 ... Ronaldo was the same age when he joined Juventus in ... ALSO READ: Inside Cristiano Ronaldo's daughter, Alana's sixth birthday [watch] Ronaldo's 39th birthday is said to have come just nine days after his partner, Georgina Rodriguez, turned 30 ...\u001b[0m\n",
      "Thought:\u001b[32;1m\u001b[1;3m This information is helpful, but I need to find his exact age and birthday\n",
      "Action: Search\n",
      "Action Input: 'Cristiano Ronaldo age and birthday'\u001b[0m\n",
      "Observation: \u001b[36;1m\u001b[1;3mCristiano Ronaldo (born February 5, 1985, Funchal, Madeira, Portugal) is a Portuguese football (soccer) forward who is one of the greatest players of his generation. Ronaldo is the winner of five Ballon d'Or awards (2008, 2013, 2014, 2016, and 2017), and in 2024 he became the first men's player to score 900 career goals in official matches.. Early life and career Cristiano Ronaldo Age. Ronaldo was born on 5 February 1985 and is currently 39 years old. Club career. Before joining Manchester United in 2003 and winning the FA Cup in his debut season, Ronaldo started his senior career at Sporting CP. Along with winning the FIFA Club World Cup, the Champions League, and three straight Premier League ... Cristiano Ronaldo dos Santos Aveiro was born in Funchal, Madeira Islands in early 1985 to Maria Dolores dos Santos and José Dinis Aveiro. [19] He has one brother named Hugo, and two sisters named Katia and Elma. [20] Ronaldo was diagnosed with a racing heart (Tachycardia) at age 15 in 2000. In 1997, 12-year-old Ronaldo went on a trial with Sporting CP. [21] Cristiano Ronaldo turned 39 on February 5. ... Cristiano Ronaldo 39th birthday: Year-by-year career stats as CR7 celebrates on February 5 ... Ronaldo was the same age when he joined Juventus in ... Considered a phenom as a teenager, 16-year-old Ronaldo signed with Manchester United in a record deal for a player of his age. He set a franchise record for goals scored in 2008, before ...\u001b[0m\n",
      "Thought:\u001b[32;1m\u001b[1;3m\u001b[0m\n",
      "\n",
      "\u001b[1m> Finished chain.\u001b[0m\n"
     ]
    },
    {
     "data": {
      "text/plain": [
       "'Agent stopped due to iteration limit or time limit.'"
      ]
     },
     "execution_count": 48,
     "metadata": {},
     "output_type": "execute_result"
    }
   ],
   "source": [
    "agent.run(\"\"\"Get Cristiano Ronaldos age from Google and display the age and birthday\"\"\")"
   ]
  },
  {
   "cell_type": "markdown",
   "id": "43328034-6a91-4941-9b3b-a28c3700e368",
   "metadata": {},
   "source": [
    "### Kept it restricted to 2 iterations as it will go on for few more times to give the age and birthday using duckduckgo search"
   ]
  },
  {
   "cell_type": "markdown",
   "id": "383f6053-8bf3-4d59-a96d-6bd181b6432b",
   "metadata": {},
   "source": [
    "## Creating a custom tool"
   ]
  },
  {
   "cell_type": "code",
   "execution_count": 74,
   "id": "f17a4d5d-066f-4c70-93f1-91f23332a746",
   "metadata": {},
   "outputs": [],
   "source": [
    "from langchain.tools import BaseTool\n",
    "from langchain_core.output_parsers import JsonOutputParser\n",
    "from langchain.tools import tool\n",
    "\n",
    "\n",
    "@tool(\"lower_case\", return_direct = True)\n",
    "def StructuredResponseTool(question: str):\n",
    "    \"\"\"\n",
    "    use this tool to send a prompt and get a JSON returned\n",
    "    with three fields - Topic, Question_Details and Detailed_Response\n",
    "    \"\"\"\n",
    "\n",
    "    json_prompt = PromptTemplate.from_template(\n",
    "    \"\"\"\n",
    "    Return a JSON object with an 'answer' key that answers the following question: {question}.\n",
    "    The JSON object will have three fields - Topic, Question_Details and Detailed_Response\n",
    "    \"\"\"\n",
    "    )\n",
    "\n",
    "    model = OpenAI(model_name = \"gpt-3.5-turbo-instruct\", temperature = 0.5)\n",
    "\n",
    "    json_parser = JsonOutputParser()\n",
    "    json_chain = json_prompt | model | json_parser\n",
    "    x = json_chain.invoke({\"question\": question})\n",
    "    return x"
   ]
  },
  {
   "cell_type": "code",
   "execution_count": 76,
   "id": "9eaa18ae-f5f3-4194-8a74-e72087e4702a",
   "metadata": {},
   "outputs": [],
   "source": [
    "from langchain.chat_models import ChatOpenAI\n",
    "from langchain.prompts import PromptTemplate\n",
    "from langchain.chains.conversation.memory import ConversationBufferWindowMemory"
   ]
  },
  {
   "cell_type": "code",
   "execution_count": 80,
   "id": "86e40c9a-b9df-4fff-b7c1-49d69a2f7bf0",
   "metadata": {},
   "outputs": [],
   "source": [
    "from langchain.agents import initialize_agent\n",
    "\n",
    "tools = [StructuredResponseTool]\n",
    "\n",
    "zero_shot_agent = initialize_agent(\n",
    "    agent = \"zero-shot-react-description\",\n",
    "    tools = tools,\n",
    "    llm = llm,\n",
    "    verbose = True,\n",
    "    max_iterations = 10\n",
    ")"
   ]
  },
  {
   "cell_type": "code",
   "execution_count": 90,
   "id": "2151604c-f65a-47ad-8dd4-55d7e5f2b8aa",
   "metadata": {},
   "outputs": [
    {
     "name": "stdout",
     "output_type": "stream",
     "text": [
      "\n",
      "\n",
      "\u001b[1m> Entering new AgentExecutor chain...\u001b[0m\n",
      "\u001b[32;1m\u001b[1;3m I should use the lower_case tool to get the JSON response\n",
      "Action: lower_case\n",
      "Action Input: \"Which is the top football team in the world and how\"\u001b[0m\n",
      "Observation: \u001b[36;1m\u001b[1;3m{'Topic': 'Football', 'Question_Details': 'Which is the top football team in the world and how?', 'Detailed_Response': \"The top football team in the world is currently considered to be FC Barcelona. This is based on their consistent success in major competitions such as the UEFA Champions League and La Liga, as well as their talented roster of players including Lionel Messi, Neymar, and Luis Suarez. Additionally, Barcelona's style of play, known as tiki-taka, is highly praised for its fluidity and effectiveness on the field. Overall, FC Barcelona's combination of skill, strategy, and success make them the top football team in the world.\"}\u001b[0m\n",
      "\u001b[32;1m\u001b[1;3m\u001b[0m\n",
      "\n",
      "\u001b[1m> Finished chain.\u001b[0m\n"
     ]
    },
    {
     "data": {
      "text/plain": [
       "{'Topic': 'Football',\n",
       " 'Question_Details': 'Which is the top football team in the world and how?',\n",
       " 'Detailed_Response': \"The top football team in the world is currently considered to be FC Barcelona. This is based on their consistent success in major competitions such as the UEFA Champions League and La Liga, as well as their talented roster of players including Lionel Messi, Neymar, and Luis Suarez. Additionally, Barcelona's style of play, known as tiki-taka, is highly praised for its fluidity and effectiveness on the field. Overall, FC Barcelona's combination of skill, strategy, and success make them the top football team in the world.\"}"
      ]
     },
     "execution_count": 90,
     "metadata": {},
     "output_type": "execute_result"
    }
   ],
   "source": [
    "zero_shot_agent.run(input=\"Which is the top football team in the worls and how, the response should have three fields in the JSON - topic of the question, the question and detailed response\")"
   ]
  },
  {
   "cell_type": "markdown",
   "id": "8ad01729-eca9-468d-84cc-9583515adfc1",
   "metadata": {},
   "source": [
    "### Definitely needs some check, FCB as the best club rn woah!!!!"
   ]
  }
 ],
 "metadata": {
  "kernelspec": {
   "display_name": "Python [conda env:base] *",
   "language": "python",
   "name": "conda-base-py"
  },
  "language_info": {
   "codemirror_mode": {
    "name": "ipython",
    "version": 3
   },
   "file_extension": ".py",
   "mimetype": "text/x-python",
   "name": "python",
   "nbconvert_exporter": "python",
   "pygments_lexer": "ipython3",
   "version": "3.12.7"
  }
 },
 "nbformat": 4,
 "nbformat_minor": 5
}
